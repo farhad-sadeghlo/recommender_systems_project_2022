{
 "cells": [
  {
   "cell_type": "markdown",
   "metadata": {},
   "source": [
    "## Collaborative Filtering"
   ]
  },
  {
   "cell_type": "code",
   "execution_count": 1,
   "metadata": {
    "ExecuteTime": {
     "end_time": "2020-04-30T11:55:52.017300Z",
     "start_time": "2020-04-30T11:55:50.841050Z"
    }
   },
   "outputs": [],
   "source": [
    "import numpy as np\n",
    "import pandas as pd\n",
    "from sklearn.neighbors import NearestNeighbors\n",
    "from scipy.sparse import csr_matrix"
   ]
  },
  {
   "cell_type": "markdown",
   "metadata": {},
   "source": [
    "We will create an recommender engine based on Item Based Collaborative Filtering (IBCF) which searches for the most similar books based on the user ratings. We can download the data from [here](https://drive.google.com/file/d/1WvTmAfO09TCX7xp7uu06__ziic7JnrL5/view?usp=sharing)."
   ]
  },
  {
   "cell_type": "code",
   "execution_count": 2,
   "metadata": {},
   "outputs": [
    {
     "name": "stderr",
     "output_type": "stream",
     "text": [
      "C:\\Users\\Farhad\\AppData\\Local\\Temp\\ipykernel_37716\\280232981.py:2: FutureWarning: The error_bad_lines argument has been deprecated and will be removed in a future version. Use on_bad_lines in the future.\n",
      "\n",
      "\n",
      "  books = pd.read_csv('BX-CSV-Dump\\\\BX-Books.csv',sep=\";\", encoding=\"latin\", error_bad_lines=False)\n",
      "b'Skipping line 6452: expected 8 fields, saw 9\\nSkipping line 43667: expected 8 fields, saw 10\\nSkipping line 51751: expected 8 fields, saw 9\\n'\n",
      "b'Skipping line 92038: expected 8 fields, saw 9\\nSkipping line 104319: expected 8 fields, saw 9\\nSkipping line 121768: expected 8 fields, saw 9\\n'\n",
      "b'Skipping line 144058: expected 8 fields, saw 9\\nSkipping line 150789: expected 8 fields, saw 9\\nSkipping line 157128: expected 8 fields, saw 9\\nSkipping line 180189: expected 8 fields, saw 9\\nSkipping line 185738: expected 8 fields, saw 9\\n'\n",
      "b'Skipping line 209388: expected 8 fields, saw 9\\nSkipping line 220626: expected 8 fields, saw 9\\nSkipping line 227933: expected 8 fields, saw 11\\nSkipping line 228957: expected 8 fields, saw 10\\nSkipping line 245933: expected 8 fields, saw 9\\nSkipping line 251296: expected 8 fields, saw 9\\nSkipping line 259941: expected 8 fields, saw 9\\nSkipping line 261529: expected 8 fields, saw 9\\n'\n",
      "C:\\Users\\Farhad\\AppData\\Local\\Temp\\ipykernel_37716\\280232981.py:2: DtypeWarning: Columns (3) have mixed types. Specify dtype option on import or set low_memory=False.\n",
      "  books = pd.read_csv('BX-CSV-Dump\\\\BX-Books.csv',sep=\";\", encoding=\"latin\", error_bad_lines=False)\n",
      "C:\\Users\\Farhad\\AppData\\Local\\Temp\\ipykernel_37716\\280232981.py:3: FutureWarning: The error_bad_lines argument has been deprecated and will be removed in a future version. Use on_bad_lines in the future.\n",
      "\n",
      "\n",
      "  books_users = pd.read_csv('BX-CSV-DUMP\\\\BX-Users.csv', sep=\";\", encoding=\"latin\", error_bad_lines=False)\n"
     ]
    }
   ],
   "source": [
    "book_ratings = pd.read_csv('BX-CSV-Dump\\\\BX-Book-Ratings.csv',sep=\";\", encoding=\"latin\")\n",
    "books = pd.read_csv('BX-CSV-Dump\\\\BX-Books.csv',sep=\";\", encoding=\"latin\", error_bad_lines=False)\n",
    "books_users = pd.read_csv('BX-CSV-DUMP\\\\BX-Users.csv', sep=\";\", encoding=\"latin\", error_bad_lines=False)"
   ]
  },
  {
   "cell_type": "markdown",
   "metadata": {},
   "source": [
    "* Explore both datasets"
   ]
  },
  {
   "cell_type": "code",
   "execution_count": 3,
   "metadata": {},
   "outputs": [
    {
     "data": {
      "text/plain": "         User-ID         ISBN  Book-Rating\n0         276725   034545104X            0\n1         276726   0155061224            5\n2         276727   0446520802            0\n3         276729   052165615X            3\n4         276729   0521795028            6\n...          ...          ...          ...\n1149775   276704   1563526298            9\n1149776   276706   0679447156            0\n1149777   276709   0515107662           10\n1149778   276721   0590442449           10\n1149779   276723  05162443314            8\n\n[1149780 rows x 3 columns]",
      "text/html": "<div>\n<style scoped>\n    .dataframe tbody tr th:only-of-type {\n        vertical-align: middle;\n    }\n\n    .dataframe tbody tr th {\n        vertical-align: top;\n    }\n\n    .dataframe thead th {\n        text-align: right;\n    }\n</style>\n<table border=\"1\" class=\"dataframe\">\n  <thead>\n    <tr style=\"text-align: right;\">\n      <th></th>\n      <th>User-ID</th>\n      <th>ISBN</th>\n      <th>Book-Rating</th>\n    </tr>\n  </thead>\n  <tbody>\n    <tr>\n      <th>0</th>\n      <td>276725</td>\n      <td>034545104X</td>\n      <td>0</td>\n    </tr>\n    <tr>\n      <th>1</th>\n      <td>276726</td>\n      <td>0155061224</td>\n      <td>5</td>\n    </tr>\n    <tr>\n      <th>2</th>\n      <td>276727</td>\n      <td>0446520802</td>\n      <td>0</td>\n    </tr>\n    <tr>\n      <th>3</th>\n      <td>276729</td>\n      <td>052165615X</td>\n      <td>3</td>\n    </tr>\n    <tr>\n      <th>4</th>\n      <td>276729</td>\n      <td>0521795028</td>\n      <td>6</td>\n    </tr>\n    <tr>\n      <th>...</th>\n      <td>...</td>\n      <td>...</td>\n      <td>...</td>\n    </tr>\n    <tr>\n      <th>1149775</th>\n      <td>276704</td>\n      <td>1563526298</td>\n      <td>9</td>\n    </tr>\n    <tr>\n      <th>1149776</th>\n      <td>276706</td>\n      <td>0679447156</td>\n      <td>0</td>\n    </tr>\n    <tr>\n      <th>1149777</th>\n      <td>276709</td>\n      <td>0515107662</td>\n      <td>10</td>\n    </tr>\n    <tr>\n      <th>1149778</th>\n      <td>276721</td>\n      <td>0590442449</td>\n      <td>10</td>\n    </tr>\n    <tr>\n      <th>1149779</th>\n      <td>276723</td>\n      <td>05162443314</td>\n      <td>8</td>\n    </tr>\n  </tbody>\n</table>\n<p>1149780 rows × 3 columns</p>\n</div>"
     },
     "execution_count": 3,
     "metadata": {},
     "output_type": "execute_result"
    }
   ],
   "source": [
    "book_ratings"
   ]
  },
  {
   "cell_type": "code",
   "execution_count": 4,
   "outputs": [
    {
     "data": {
      "text/plain": "              ISBN                                         Book-Title  \\\n0       0195153448                                Classical Mythology   \n1       0002005018                                       Clara Callan   \n2       0060973129                               Decision in Normandy   \n3       0374157065  Flu: The Story of the Great Influenza Pandemic...   \n4       0393045218                             The Mummies of Urumchi   \n...            ...                                                ...   \n271355  0440400988                         There's a Bat in Bunk Five   \n271356  0525447644                            From One to One Hundred   \n271357  006008667X  Lily Dale : The True Story of the Town that Ta...   \n271358  0192126040                        Republic (World's Classics)   \n271359  0767409752  A Guided Tour of Rene Descartes' Meditations o...   \n\n                 Book-Author Year-Of-Publication  \\\n0         Mark P. O. Morford                2002   \n1       Richard Bruce Wright                2001   \n2               Carlo D'Este                1991   \n3           Gina Bari Kolata                1999   \n4            E. J. W. Barber                1999   \n...                      ...                 ...   \n271355        Paula Danziger                1988   \n271356            Teri Sloat                1991   \n271357      Christine Wicker                2004   \n271358                 Plato                1996   \n271359   Christopher  Biffle                2000   \n\n                                               Publisher  \\\n0                                Oxford University Press   \n1                                  HarperFlamingo Canada   \n2                                        HarperPerennial   \n3                                   Farrar Straus Giroux   \n4                             W. W. Norton &amp; Company   \n...                                                  ...   \n271355                   Random House Childrens Pub (Mm)   \n271356                                      Dutton Books   \n271357                                HarperSanFrancisco   \n271358                           Oxford University Press   \n271359  McGraw-Hill Humanities/Social Sciences/Languages   \n\n                                              Image-URL-S  \\\n0       http://images.amazon.com/images/P/0195153448.0...   \n1       http://images.amazon.com/images/P/0002005018.0...   \n2       http://images.amazon.com/images/P/0060973129.0...   \n3       http://images.amazon.com/images/P/0374157065.0...   \n4       http://images.amazon.com/images/P/0393045218.0...   \n...                                                   ...   \n271355  http://images.amazon.com/images/P/0440400988.0...   \n271356  http://images.amazon.com/images/P/0525447644.0...   \n271357  http://images.amazon.com/images/P/006008667X.0...   \n271358  http://images.amazon.com/images/P/0192126040.0...   \n271359  http://images.amazon.com/images/P/0767409752.0...   \n\n                                              Image-URL-M  \\\n0       http://images.amazon.com/images/P/0195153448.0...   \n1       http://images.amazon.com/images/P/0002005018.0...   \n2       http://images.amazon.com/images/P/0060973129.0...   \n3       http://images.amazon.com/images/P/0374157065.0...   \n4       http://images.amazon.com/images/P/0393045218.0...   \n...                                                   ...   \n271355  http://images.amazon.com/images/P/0440400988.0...   \n271356  http://images.amazon.com/images/P/0525447644.0...   \n271357  http://images.amazon.com/images/P/006008667X.0...   \n271358  http://images.amazon.com/images/P/0192126040.0...   \n271359  http://images.amazon.com/images/P/0767409752.0...   \n\n                                              Image-URL-L  \n0       http://images.amazon.com/images/P/0195153448.0...  \n1       http://images.amazon.com/images/P/0002005018.0...  \n2       http://images.amazon.com/images/P/0060973129.0...  \n3       http://images.amazon.com/images/P/0374157065.0...  \n4       http://images.amazon.com/images/P/0393045218.0...  \n...                                                   ...  \n271355  http://images.amazon.com/images/P/0440400988.0...  \n271356  http://images.amazon.com/images/P/0525447644.0...  \n271357  http://images.amazon.com/images/P/006008667X.0...  \n271358  http://images.amazon.com/images/P/0192126040.0...  \n271359  http://images.amazon.com/images/P/0767409752.0...  \n\n[271360 rows x 8 columns]",
      "text/html": "<div>\n<style scoped>\n    .dataframe tbody tr th:only-of-type {\n        vertical-align: middle;\n    }\n\n    .dataframe tbody tr th {\n        vertical-align: top;\n    }\n\n    .dataframe thead th {\n        text-align: right;\n    }\n</style>\n<table border=\"1\" class=\"dataframe\">\n  <thead>\n    <tr style=\"text-align: right;\">\n      <th></th>\n      <th>ISBN</th>\n      <th>Book-Title</th>\n      <th>Book-Author</th>\n      <th>Year-Of-Publication</th>\n      <th>Publisher</th>\n      <th>Image-URL-S</th>\n      <th>Image-URL-M</th>\n      <th>Image-URL-L</th>\n    </tr>\n  </thead>\n  <tbody>\n    <tr>\n      <th>0</th>\n      <td>0195153448</td>\n      <td>Classical Mythology</td>\n      <td>Mark P. O. Morford</td>\n      <td>2002</td>\n      <td>Oxford University Press</td>\n      <td>http://images.amazon.com/images/P/0195153448.0...</td>\n      <td>http://images.amazon.com/images/P/0195153448.0...</td>\n      <td>http://images.amazon.com/images/P/0195153448.0...</td>\n    </tr>\n    <tr>\n      <th>1</th>\n      <td>0002005018</td>\n      <td>Clara Callan</td>\n      <td>Richard Bruce Wright</td>\n      <td>2001</td>\n      <td>HarperFlamingo Canada</td>\n      <td>http://images.amazon.com/images/P/0002005018.0...</td>\n      <td>http://images.amazon.com/images/P/0002005018.0...</td>\n      <td>http://images.amazon.com/images/P/0002005018.0...</td>\n    </tr>\n    <tr>\n      <th>2</th>\n      <td>0060973129</td>\n      <td>Decision in Normandy</td>\n      <td>Carlo D'Este</td>\n      <td>1991</td>\n      <td>HarperPerennial</td>\n      <td>http://images.amazon.com/images/P/0060973129.0...</td>\n      <td>http://images.amazon.com/images/P/0060973129.0...</td>\n      <td>http://images.amazon.com/images/P/0060973129.0...</td>\n    </tr>\n    <tr>\n      <th>3</th>\n      <td>0374157065</td>\n      <td>Flu: The Story of the Great Influenza Pandemic...</td>\n      <td>Gina Bari Kolata</td>\n      <td>1999</td>\n      <td>Farrar Straus Giroux</td>\n      <td>http://images.amazon.com/images/P/0374157065.0...</td>\n      <td>http://images.amazon.com/images/P/0374157065.0...</td>\n      <td>http://images.amazon.com/images/P/0374157065.0...</td>\n    </tr>\n    <tr>\n      <th>4</th>\n      <td>0393045218</td>\n      <td>The Mummies of Urumchi</td>\n      <td>E. J. W. Barber</td>\n      <td>1999</td>\n      <td>W. W. Norton &amp;amp; Company</td>\n      <td>http://images.amazon.com/images/P/0393045218.0...</td>\n      <td>http://images.amazon.com/images/P/0393045218.0...</td>\n      <td>http://images.amazon.com/images/P/0393045218.0...</td>\n    </tr>\n    <tr>\n      <th>...</th>\n      <td>...</td>\n      <td>...</td>\n      <td>...</td>\n      <td>...</td>\n      <td>...</td>\n      <td>...</td>\n      <td>...</td>\n      <td>...</td>\n    </tr>\n    <tr>\n      <th>271355</th>\n      <td>0440400988</td>\n      <td>There's a Bat in Bunk Five</td>\n      <td>Paula Danziger</td>\n      <td>1988</td>\n      <td>Random House Childrens Pub (Mm)</td>\n      <td>http://images.amazon.com/images/P/0440400988.0...</td>\n      <td>http://images.amazon.com/images/P/0440400988.0...</td>\n      <td>http://images.amazon.com/images/P/0440400988.0...</td>\n    </tr>\n    <tr>\n      <th>271356</th>\n      <td>0525447644</td>\n      <td>From One to One Hundred</td>\n      <td>Teri Sloat</td>\n      <td>1991</td>\n      <td>Dutton Books</td>\n      <td>http://images.amazon.com/images/P/0525447644.0...</td>\n      <td>http://images.amazon.com/images/P/0525447644.0...</td>\n      <td>http://images.amazon.com/images/P/0525447644.0...</td>\n    </tr>\n    <tr>\n      <th>271357</th>\n      <td>006008667X</td>\n      <td>Lily Dale : The True Story of the Town that Ta...</td>\n      <td>Christine Wicker</td>\n      <td>2004</td>\n      <td>HarperSanFrancisco</td>\n      <td>http://images.amazon.com/images/P/006008667X.0...</td>\n      <td>http://images.amazon.com/images/P/006008667X.0...</td>\n      <td>http://images.amazon.com/images/P/006008667X.0...</td>\n    </tr>\n    <tr>\n      <th>271358</th>\n      <td>0192126040</td>\n      <td>Republic (World's Classics)</td>\n      <td>Plato</td>\n      <td>1996</td>\n      <td>Oxford University Press</td>\n      <td>http://images.amazon.com/images/P/0192126040.0...</td>\n      <td>http://images.amazon.com/images/P/0192126040.0...</td>\n      <td>http://images.amazon.com/images/P/0192126040.0...</td>\n    </tr>\n    <tr>\n      <th>271359</th>\n      <td>0767409752</td>\n      <td>A Guided Tour of Rene Descartes' Meditations o...</td>\n      <td>Christopher  Biffle</td>\n      <td>2000</td>\n      <td>McGraw-Hill Humanities/Social Sciences/Languages</td>\n      <td>http://images.amazon.com/images/P/0767409752.0...</td>\n      <td>http://images.amazon.com/images/P/0767409752.0...</td>\n      <td>http://images.amazon.com/images/P/0767409752.0...</td>\n    </tr>\n  </tbody>\n</table>\n<p>271360 rows × 8 columns</p>\n</div>"
     },
     "execution_count": 4,
     "metadata": {},
     "output_type": "execute_result"
    }
   ],
   "source": [
    "books"
   ],
   "metadata": {
    "collapsed": false
   }
  },
  {
   "cell_type": "code",
   "execution_count": 5,
   "outputs": [
    {
     "data": {
      "text/plain": "        User-ID                            Location   Age\n0             1                  nyc, new york, usa   NaN\n1             2           stockton, california, usa  18.0\n2             3     moscow, yukon territory, russia   NaN\n3             4           porto, v.n.gaia, portugal  17.0\n4             5  farnborough, hants, united kingdom   NaN\n...         ...                                 ...   ...\n278853   278854               portland, oregon, usa   NaN\n278854   278855  tacoma, washington, united kingdom  50.0\n278855   278856           brampton, ontario, canada   NaN\n278856   278857           knoxville, tennessee, usa   NaN\n278857   278858                dublin, n/a, ireland   NaN\n\n[278858 rows x 3 columns]",
      "text/html": "<div>\n<style scoped>\n    .dataframe tbody tr th:only-of-type {\n        vertical-align: middle;\n    }\n\n    .dataframe tbody tr th {\n        vertical-align: top;\n    }\n\n    .dataframe thead th {\n        text-align: right;\n    }\n</style>\n<table border=\"1\" class=\"dataframe\">\n  <thead>\n    <tr style=\"text-align: right;\">\n      <th></th>\n      <th>User-ID</th>\n      <th>Location</th>\n      <th>Age</th>\n    </tr>\n  </thead>\n  <tbody>\n    <tr>\n      <th>0</th>\n      <td>1</td>\n      <td>nyc, new york, usa</td>\n      <td>NaN</td>\n    </tr>\n    <tr>\n      <th>1</th>\n      <td>2</td>\n      <td>stockton, california, usa</td>\n      <td>18.0</td>\n    </tr>\n    <tr>\n      <th>2</th>\n      <td>3</td>\n      <td>moscow, yukon territory, russia</td>\n      <td>NaN</td>\n    </tr>\n    <tr>\n      <th>3</th>\n      <td>4</td>\n      <td>porto, v.n.gaia, portugal</td>\n      <td>17.0</td>\n    </tr>\n    <tr>\n      <th>4</th>\n      <td>5</td>\n      <td>farnborough, hants, united kingdom</td>\n      <td>NaN</td>\n    </tr>\n    <tr>\n      <th>...</th>\n      <td>...</td>\n      <td>...</td>\n      <td>...</td>\n    </tr>\n    <tr>\n      <th>278853</th>\n      <td>278854</td>\n      <td>portland, oregon, usa</td>\n      <td>NaN</td>\n    </tr>\n    <tr>\n      <th>278854</th>\n      <td>278855</td>\n      <td>tacoma, washington, united kingdom</td>\n      <td>50.0</td>\n    </tr>\n    <tr>\n      <th>278855</th>\n      <td>278856</td>\n      <td>brampton, ontario, canada</td>\n      <td>NaN</td>\n    </tr>\n    <tr>\n      <th>278856</th>\n      <td>278857</td>\n      <td>knoxville, tennessee, usa</td>\n      <td>NaN</td>\n    </tr>\n    <tr>\n      <th>278857</th>\n      <td>278858</td>\n      <td>dublin, n/a, ireland</td>\n      <td>NaN</td>\n    </tr>\n  </tbody>\n</table>\n<p>278858 rows × 3 columns</p>\n</div>"
     },
     "execution_count": 5,
     "metadata": {},
     "output_type": "execute_result"
    }
   ],
   "source": [
    "books_users"
   ],
   "metadata": {
    "collapsed": false
   }
  },
  {
   "cell_type": "code",
   "execution_count": 6,
   "outputs": [],
   "source": [
    "books_info = pd.merge(books, book_ratings, on='ISBN')"
   ],
   "metadata": {
    "collapsed": false
   }
  },
  {
   "cell_type": "code",
   "execution_count": 7,
   "outputs": [
    {
     "data": {
      "text/plain": "            Book-Rating\nISBN                   \n0000913154            1\n0001010565            2\n0001046438            1\n0001046713            1\n000104687X            1\n...                 ...\nB000234N76            1\nB000234NC6            1\nB00029DGGO            1\nB0002JV9PY            1\nB0002K6K8O            1\n\n[270151 rows x 1 columns]",
      "text/html": "<div>\n<style scoped>\n    .dataframe tbody tr th:only-of-type {\n        vertical-align: middle;\n    }\n\n    .dataframe tbody tr th {\n        vertical-align: top;\n    }\n\n    .dataframe thead th {\n        text-align: right;\n    }\n</style>\n<table border=\"1\" class=\"dataframe\">\n  <thead>\n    <tr style=\"text-align: right;\">\n      <th></th>\n      <th>Book-Rating</th>\n    </tr>\n    <tr>\n      <th>ISBN</th>\n      <th></th>\n    </tr>\n  </thead>\n  <tbody>\n    <tr>\n      <th>0000913154</th>\n      <td>1</td>\n    </tr>\n    <tr>\n      <th>0001010565</th>\n      <td>2</td>\n    </tr>\n    <tr>\n      <th>0001046438</th>\n      <td>1</td>\n    </tr>\n    <tr>\n      <th>0001046713</th>\n      <td>1</td>\n    </tr>\n    <tr>\n      <th>000104687X</th>\n      <td>1</td>\n    </tr>\n    <tr>\n      <th>...</th>\n      <td>...</td>\n    </tr>\n    <tr>\n      <th>B000234N76</th>\n      <td>1</td>\n    </tr>\n    <tr>\n      <th>B000234NC6</th>\n      <td>1</td>\n    </tr>\n    <tr>\n      <th>B00029DGGO</th>\n      <td>1</td>\n    </tr>\n    <tr>\n      <th>B0002JV9PY</th>\n      <td>1</td>\n    </tr>\n    <tr>\n      <th>B0002K6K8O</th>\n      <td>1</td>\n    </tr>\n  </tbody>\n</table>\n<p>270151 rows × 1 columns</p>\n</div>"
     },
     "execution_count": 7,
     "metadata": {},
     "output_type": "execute_result"
    }
   ],
   "source": [
    "book_ratings_count = pd.DataFrame(books_info.groupby('ISBN')['Book-Rating'].count())\n",
    "book_ratings_count"
   ],
   "metadata": {
    "collapsed": false
   }
  },
  {
   "cell_type": "markdown",
   "metadata": {},
   "source": [
    "* create dataframe with name 'df_book_features' from book_ratings that have `ISBN` as index, `User-ID` as columns and values are `Book-Rating`.\n",
    "    - The data are quite big so it's OK to use a sample only in case your PC has limited RAM.\n"
   ]
  },
  {
   "cell_type": "code",
   "execution_count": 8,
   "metadata": {},
   "outputs": [],
   "source": [
    "books_info.drop_duplicates(['ISBN'], inplace=True)\n",
    "df_book_ratings = books_info"
   ]
  },
  {
   "cell_type": "markdown",
   "metadata": {},
   "source": [
    "* create the instance of the NearestNeighbors class"
   ]
  },
  {
   "cell_type": "code",
   "execution_count": 9,
   "outputs": [],
   "source": [
    "df_book_ratings.drop(columns=['Image-URL-S', 'Image-URL-M', 'Image-URL-L', 'Book-Author', 'Year-Of-Publication', 'Publisher'], inplace=True)"
   ],
   "metadata": {
    "collapsed": false
   }
  },
  {
   "cell_type": "code",
   "execution_count": 10,
   "outputs": [
    {
     "data": {
      "text/plain": "              ISBN                                         Book-Title  \\\n0       0195153448                                Classical Mythology   \n1       0002005018                                       Clara Callan   \n2       0060973129                               Decision in Normandy   \n3       0374157065  Flu: The Story of the Great Influenza Pandemic...   \n4       0393045218                             The Mummies of Urumchi   \n...            ...                                                ...   \n270146  0440400988                         There's a Bat in Bunk Five   \n270147  0525447644                            From One to One Hundred   \n270148  006008667X  Lily Dale : The True Story of the Town that Ta...   \n270149  0192126040                        Republic (World's Classics)   \n270150  0767409752  A Guided Tour of Rene Descartes' Meditations o...   \n\n        User-ID  Book-Rating  \n0             2            0  \n1             8            5  \n2             8            0  \n3             8            0  \n4             8            0  \n...         ...          ...  \n270146   276463            7  \n270147   276579            4  \n270148   276680            0  \n270149   276680            0  \n270150   276680            0  \n\n[270151 rows x 4 columns]",
      "text/html": "<div>\n<style scoped>\n    .dataframe tbody tr th:only-of-type {\n        vertical-align: middle;\n    }\n\n    .dataframe tbody tr th {\n        vertical-align: top;\n    }\n\n    .dataframe thead th {\n        text-align: right;\n    }\n</style>\n<table border=\"1\" class=\"dataframe\">\n  <thead>\n    <tr style=\"text-align: right;\">\n      <th></th>\n      <th>ISBN</th>\n      <th>Book-Title</th>\n      <th>User-ID</th>\n      <th>Book-Rating</th>\n    </tr>\n  </thead>\n  <tbody>\n    <tr>\n      <th>0</th>\n      <td>0195153448</td>\n      <td>Classical Mythology</td>\n      <td>2</td>\n      <td>0</td>\n    </tr>\n    <tr>\n      <th>1</th>\n      <td>0002005018</td>\n      <td>Clara Callan</td>\n      <td>8</td>\n      <td>5</td>\n    </tr>\n    <tr>\n      <th>2</th>\n      <td>0060973129</td>\n      <td>Decision in Normandy</td>\n      <td>8</td>\n      <td>0</td>\n    </tr>\n    <tr>\n      <th>3</th>\n      <td>0374157065</td>\n      <td>Flu: The Story of the Great Influenza Pandemic...</td>\n      <td>8</td>\n      <td>0</td>\n    </tr>\n    <tr>\n      <th>4</th>\n      <td>0393045218</td>\n      <td>The Mummies of Urumchi</td>\n      <td>8</td>\n      <td>0</td>\n    </tr>\n    <tr>\n      <th>...</th>\n      <td>...</td>\n      <td>...</td>\n      <td>...</td>\n      <td>...</td>\n    </tr>\n    <tr>\n      <th>270146</th>\n      <td>0440400988</td>\n      <td>There's a Bat in Bunk Five</td>\n      <td>276463</td>\n      <td>7</td>\n    </tr>\n    <tr>\n      <th>270147</th>\n      <td>0525447644</td>\n      <td>From One to One Hundred</td>\n      <td>276579</td>\n      <td>4</td>\n    </tr>\n    <tr>\n      <th>270148</th>\n      <td>006008667X</td>\n      <td>Lily Dale : The True Story of the Town that Ta...</td>\n      <td>276680</td>\n      <td>0</td>\n    </tr>\n    <tr>\n      <th>270149</th>\n      <td>0192126040</td>\n      <td>Republic (World's Classics)</td>\n      <td>276680</td>\n      <td>0</td>\n    </tr>\n    <tr>\n      <th>270150</th>\n      <td>0767409752</td>\n      <td>A Guided Tour of Rene Descartes' Meditations o...</td>\n      <td>276680</td>\n      <td>0</td>\n    </tr>\n  </tbody>\n</table>\n<p>270151 rows × 4 columns</p>\n</div>"
     },
     "execution_count": 10,
     "metadata": {},
     "output_type": "execute_result"
    }
   ],
   "source": [
    "df_book_ratings.reset_index(drop=True, inplace=True)\n",
    "df_book_ratings"
   ],
   "metadata": {
    "collapsed": false
   }
  },
  {
   "cell_type": "code",
   "execution_count": 11,
   "outputs": [],
   "source": [
    "df_book_ratings_big_chunk = df_book_ratings[:100000]"
   ],
   "metadata": {
    "collapsed": false
   }
  },
  {
   "cell_type": "code",
   "execution_count": 12,
   "outputs": [
    {
     "data": {
      "text/plain": "             ISBN                                         Book-Title  User-ID  \\\n0      0195153448                                Classical Mythology        2   \n1      0002005018                                       Clara Callan        8   \n2      0060973129                               Decision in Normandy        8   \n3      0374157065  Flu: The Story of the Great Influenza Pandemic...        8   \n4      0393045218                             The Mummies of Urumchi        8   \n...           ...                                                ...      ...   \n99995  0373191960  Family Of The Year (Harlequin Silhouette Roman...   278418   \n99996  0373192339      Bachelor'S Baby (Silhouette Romance, No 1233)    51883   \n99997  3312001994   Der Zeitreisende. Die Visionen des Henry Dunant.   214202   \n99998  037319045X  Bachelor At The Wedding (Wedding Wager) (Silho...    51883   \n99999  0373192460  Wanted: One Son  (Fabulous Fathers) (Harlequin...    51883   \n\n       Book-Rating  \n0                0  \n1                5  \n2                0  \n3                0  \n4                0  \n...            ...  \n99995            0  \n99996            0  \n99997            0  \n99998            0  \n99999            0  \n\n[100000 rows x 4 columns]",
      "text/html": "<div>\n<style scoped>\n    .dataframe tbody tr th:only-of-type {\n        vertical-align: middle;\n    }\n\n    .dataframe tbody tr th {\n        vertical-align: top;\n    }\n\n    .dataframe thead th {\n        text-align: right;\n    }\n</style>\n<table border=\"1\" class=\"dataframe\">\n  <thead>\n    <tr style=\"text-align: right;\">\n      <th></th>\n      <th>ISBN</th>\n      <th>Book-Title</th>\n      <th>User-ID</th>\n      <th>Book-Rating</th>\n    </tr>\n  </thead>\n  <tbody>\n    <tr>\n      <th>0</th>\n      <td>0195153448</td>\n      <td>Classical Mythology</td>\n      <td>2</td>\n      <td>0</td>\n    </tr>\n    <tr>\n      <th>1</th>\n      <td>0002005018</td>\n      <td>Clara Callan</td>\n      <td>8</td>\n      <td>5</td>\n    </tr>\n    <tr>\n      <th>2</th>\n      <td>0060973129</td>\n      <td>Decision in Normandy</td>\n      <td>8</td>\n      <td>0</td>\n    </tr>\n    <tr>\n      <th>3</th>\n      <td>0374157065</td>\n      <td>Flu: The Story of the Great Influenza Pandemic...</td>\n      <td>8</td>\n      <td>0</td>\n    </tr>\n    <tr>\n      <th>4</th>\n      <td>0393045218</td>\n      <td>The Mummies of Urumchi</td>\n      <td>8</td>\n      <td>0</td>\n    </tr>\n    <tr>\n      <th>...</th>\n      <td>...</td>\n      <td>...</td>\n      <td>...</td>\n      <td>...</td>\n    </tr>\n    <tr>\n      <th>99995</th>\n      <td>0373191960</td>\n      <td>Family Of The Year (Harlequin Silhouette Roman...</td>\n      <td>278418</td>\n      <td>0</td>\n    </tr>\n    <tr>\n      <th>99996</th>\n      <td>0373192339</td>\n      <td>Bachelor'S Baby (Silhouette Romance, No 1233)</td>\n      <td>51883</td>\n      <td>0</td>\n    </tr>\n    <tr>\n      <th>99997</th>\n      <td>3312001994</td>\n      <td>Der Zeitreisende. Die Visionen des Henry Dunant.</td>\n      <td>214202</td>\n      <td>0</td>\n    </tr>\n    <tr>\n      <th>99998</th>\n      <td>037319045X</td>\n      <td>Bachelor At The Wedding (Wedding Wager) (Silho...</td>\n      <td>51883</td>\n      <td>0</td>\n    </tr>\n    <tr>\n      <th>99999</th>\n      <td>0373192460</td>\n      <td>Wanted: One Son  (Fabulous Fathers) (Harlequin...</td>\n      <td>51883</td>\n      <td>0</td>\n    </tr>\n  </tbody>\n</table>\n<p>100000 rows × 4 columns</p>\n</div>"
     },
     "execution_count": 12,
     "metadata": {},
     "output_type": "execute_result"
    }
   ],
   "source": [
    "df_book_ratings_big_chunk"
   ],
   "metadata": {
    "collapsed": false
   }
  },
  {
   "cell_type": "code",
   "execution_count": 13,
   "outputs": [],
   "source": [
    "df_book_ratings_pivot = df_book_ratings_big_chunk.pivot(index='ISBN', columns='User-ID', values='Book-Rating').fillna(0)"
   ],
   "metadata": {
    "collapsed": false
   }
  },
  {
   "cell_type": "code",
   "execution_count": 14,
   "outputs": [],
   "source": [
    "df_book_features_ratings_matrix = csr_matrix(df_book_ratings_pivot.values)"
   ],
   "metadata": {
    "collapsed": false
   }
  },
  {
   "cell_type": "code",
   "execution_count": 15,
   "outputs": [],
   "source": [
    "model_knn = NearestNeighbors(metric='cosine', algorithm='brute')#, n_neighbors=20, n_jobs=-1)"
   ],
   "metadata": {
    "collapsed": false
   }
  },
  {
   "cell_type": "code",
   "execution_count": 16,
   "outputs": [
    {
     "data": {
      "text/plain": "NearestNeighbors(algorithm='brute', metric='cosine')",
      "text/html": "<style>#sk-container-id-1 {color: black;background-color: white;}#sk-container-id-1 pre{padding: 0;}#sk-container-id-1 div.sk-toggleable {background-color: white;}#sk-container-id-1 label.sk-toggleable__label {cursor: pointer;display: block;width: 100%;margin-bottom: 0;padding: 0.3em;box-sizing: border-box;text-align: center;}#sk-container-id-1 label.sk-toggleable__label-arrow:before {content: \"▸\";float: left;margin-right: 0.25em;color: #696969;}#sk-container-id-1 label.sk-toggleable__label-arrow:hover:before {color: black;}#sk-container-id-1 div.sk-estimator:hover label.sk-toggleable__label-arrow:before {color: black;}#sk-container-id-1 div.sk-toggleable__content {max-height: 0;max-width: 0;overflow: hidden;text-align: left;background-color: #f0f8ff;}#sk-container-id-1 div.sk-toggleable__content pre {margin: 0.2em;color: black;border-radius: 0.25em;background-color: #f0f8ff;}#sk-container-id-1 input.sk-toggleable__control:checked~div.sk-toggleable__content {max-height: 200px;max-width: 100%;overflow: auto;}#sk-container-id-1 input.sk-toggleable__control:checked~label.sk-toggleable__label-arrow:before {content: \"▾\";}#sk-container-id-1 div.sk-estimator input.sk-toggleable__control:checked~label.sk-toggleable__label {background-color: #d4ebff;}#sk-container-id-1 div.sk-label input.sk-toggleable__control:checked~label.sk-toggleable__label {background-color: #d4ebff;}#sk-container-id-1 input.sk-hidden--visually {border: 0;clip: rect(1px 1px 1px 1px);clip: rect(1px, 1px, 1px, 1px);height: 1px;margin: -1px;overflow: hidden;padding: 0;position: absolute;width: 1px;}#sk-container-id-1 div.sk-estimator {font-family: monospace;background-color: #f0f8ff;border: 1px dotted black;border-radius: 0.25em;box-sizing: border-box;margin-bottom: 0.5em;}#sk-container-id-1 div.sk-estimator:hover {background-color: #d4ebff;}#sk-container-id-1 div.sk-parallel-item::after {content: \"\";width: 100%;border-bottom: 1px solid gray;flex-grow: 1;}#sk-container-id-1 div.sk-label:hover label.sk-toggleable__label {background-color: #d4ebff;}#sk-container-id-1 div.sk-serial::before {content: \"\";position: absolute;border-left: 1px solid gray;box-sizing: border-box;top: 0;bottom: 0;left: 50%;z-index: 0;}#sk-container-id-1 div.sk-serial {display: flex;flex-direction: column;align-items: center;background-color: white;padding-right: 0.2em;padding-left: 0.2em;position: relative;}#sk-container-id-1 div.sk-item {position: relative;z-index: 1;}#sk-container-id-1 div.sk-parallel {display: flex;align-items: stretch;justify-content: center;background-color: white;position: relative;}#sk-container-id-1 div.sk-item::before, #sk-container-id-1 div.sk-parallel-item::before {content: \"\";position: absolute;border-left: 1px solid gray;box-sizing: border-box;top: 0;bottom: 0;left: 50%;z-index: -1;}#sk-container-id-1 div.sk-parallel-item {display: flex;flex-direction: column;z-index: 1;position: relative;background-color: white;}#sk-container-id-1 div.sk-parallel-item:first-child::after {align-self: flex-end;width: 50%;}#sk-container-id-1 div.sk-parallel-item:last-child::after {align-self: flex-start;width: 50%;}#sk-container-id-1 div.sk-parallel-item:only-child::after {width: 0;}#sk-container-id-1 div.sk-dashed-wrapped {border: 1px dashed gray;margin: 0 0.4em 0.5em 0.4em;box-sizing: border-box;padding-bottom: 0.4em;background-color: white;}#sk-container-id-1 div.sk-label label {font-family: monospace;font-weight: bold;display: inline-block;line-height: 1.2em;}#sk-container-id-1 div.sk-label-container {text-align: center;}#sk-container-id-1 div.sk-container {/* jupyter's `normalize.less` sets `[hidden] { display: none; }` but bootstrap.min.css set `[hidden] { display: none !important; }` so we also need the `!important` here to be able to override the default hidden behavior on the sphinx rendered scikit-learn.org. See: https://github.com/scikit-learn/scikit-learn/issues/21755 */display: inline-block !important;position: relative;}#sk-container-id-1 div.sk-text-repr-fallback {display: none;}</style><div id=\"sk-container-id-1\" class=\"sk-top-container\"><div class=\"sk-text-repr-fallback\"><pre>NearestNeighbors(algorithm=&#x27;brute&#x27;, metric=&#x27;cosine&#x27;)</pre><b>In a Jupyter environment, please rerun this cell to show the HTML representation or trust the notebook. <br />On GitHub, the HTML representation is unable to render, please try loading this page with nbviewer.org.</b></div><div class=\"sk-container\" hidden><div class=\"sk-item\"><div class=\"sk-estimator sk-toggleable\"><input class=\"sk-toggleable__control sk-hidden--visually\" id=\"sk-estimator-id-1\" type=\"checkbox\" checked><label for=\"sk-estimator-id-1\" class=\"sk-toggleable__label sk-toggleable__label-arrow\">NearestNeighbors</label><div class=\"sk-toggleable__content\"><pre>NearestNeighbors(algorithm=&#x27;brute&#x27;, metric=&#x27;cosine&#x27;)</pre></div></div></div></div></div>"
     },
     "execution_count": 16,
     "metadata": {},
     "output_type": "execute_result"
    }
   ],
   "source": [
    "model_knn.fit(df_book_features_ratings_matrix)"
   ],
   "metadata": {
    "collapsed": false
   }
  },
  {
   "cell_type": "markdown",
   "source": [
    "* fit the NearestNeighbors using'df_book_features'"
   ],
   "metadata": {
    "collapsed": false
   }
  },
  {
   "cell_type": "code",
   "execution_count": 17,
   "outputs": [
    {
     "name": "stdout",
     "output_type": "stream",
     "text": [
      "5978\n"
     ]
    }
   ],
   "source": [
    "query_index = np.random.choice(df_book_ratings_pivot.shape[0])\n",
    "print(query_index)"
   ],
   "metadata": {
    "collapsed": false
   }
  },
  {
   "cell_type": "code",
   "execution_count": 18,
   "outputs": [
    {
     "data": {
      "text/plain": "array([[0., 0., 0., ..., 0., 0., 0.]])"
     },
     "execution_count": 18,
     "metadata": {},
     "output_type": "execute_result"
    }
   ],
   "source": [
    "df_book_ratings_pivot.iloc[query_index,:].values.reshape(1,-1)"
   ],
   "metadata": {
    "collapsed": false
   }
  },
  {
   "cell_type": "code",
   "execution_count": 19,
   "outputs": [],
   "source": [
    "distances, indices = model_knn.kneighbors(df_book_ratings_pivot.iloc[query_index,:].values.reshape(1, -1), n_neighbors=6)"
   ],
   "metadata": {
    "collapsed": false
   }
  },
  {
   "cell_type": "code",
   "execution_count": 20,
   "outputs": [
    {
     "name": "stdout",
     "output_type": "stream",
     "text": [
      "Recommendations for 0140065520:\n",
      "1: 0345359860, with distance of 0.0:\n",
      "2: 0553239317, with distance of 0.0:\n",
      "3: 0140065520, with distance of 0.0:\n",
      "4: 0380674548, with distance of 0.0:\n",
      "5: 0553254251, with distance of 0.0:\n"
     ]
    }
   ],
   "source": [
    "for i in range(0, len(distances.flatten())):\n",
    "    if i == 0:\n",
    "        print('Recommendations for {0}:'.format(df_book_ratings_pivot.index[query_index]))\n",
    "    else:\n",
    "        print('{0}: {1}, with distance of {2}:'.format(i, df_book_ratings_pivot.index[indices.flatten()[i]], distances.flatten()[i]))"
   ],
   "metadata": {
    "collapsed": false
   }
  },
  {
   "cell_type": "markdown",
   "source": [
    "* create function that returns top 5 most similar movies (according to KNN model) for selected ISBN\n",
    "    * the input will be Book-Title from the DataFrame books\n",
    "    * the output will be the Book-Titles of the top 5 most similar books.\n",
    "    * for every book in the top 5 most similar books, print also the distance from the selected book (ISBN we chose as input to the function)"
   ],
   "metadata": {
    "collapsed": false
   }
  },
  {
   "cell_type": "code",
   "execution_count": 21,
   "outputs": [],
   "source": [
    "def recommender(title, top_items=5):\n",
    "\n",
    "    query_index = df_book_ratings_big_chunk[df_book_ratings_big_chunk['Book-Title'] == title].index\n",
    "    distances, indices = model_knn.kneighbors(df_book_ratings_pivot.iloc[query_index,:].values.reshape(1, -1), n_neighbors=6)\n",
    "\n",
    "    for i in range(0, len(distances.flatten())):\n",
    "        print(indices.flatten()[i])\n",
    "        if i == 0:\n",
    "            print('Recommendations for {0}:'.format(df_book_ratings_big_chunk[df_book_ratings_big_chunk.index == query_index[0]]['Book-Title']))\n",
    "        else:\n",
    "            print('{0}: {1}, with distance of {2}:'.format(i, df_book_ratings_big_chunk[df_book_ratings_big_chunk.ISBN == df_book_ratings_pivot.index[indices.flatten()[i]]]['Book-Title'], distances.flatten()[i]))\n",
    "    return"
   ],
   "metadata": {
    "collapsed": false
   }
  },
  {
   "cell_type": "code",
   "execution_count": 22,
   "outputs": [
    {
     "name": "stdout",
     "output_type": "stream",
     "text": [
      "91902\n",
      "Recommendations for 91902    Holy the Firm\n",
      "Name: Book-Title, dtype: object:\n",
      "66668\n",
      "1: 41861    Eyewitnesses to Massacre: American Missionarie...\n",
      "Name: Book-Title, dtype: object, with distance of 1.0:\n",
      "66669\n",
      "2: 22236    The Place Where You Are Standing Is Holy: A Je...\n",
      "Name: Book-Title, dtype: object, with distance of 1.0:\n",
      "66666\n",
      "3: 8635    The Da Vinci Legacy\n",
      "Name: Book-Title, dtype: object, with distance of 1.0:\n",
      "66667\n",
      "4: 84401    People of the Wolf Special Intro Edition (Firs...\n",
      "Name: Book-Title, dtype: object, with distance of 1.0:\n",
      "66664\n",
      "5: 2251    The Hunt Begins: The Great Hunt, Part 1 (The W...\n",
      "Name: Book-Title, dtype: object, with distance of 1.0:\n"
     ]
    }
   ],
   "source": [
    "recommender('Holy the Firm')"
   ],
   "metadata": {
    "collapsed": false
   }
  },
  {
   "cell_type": "markdown",
   "metadata": {},
   "source": [
    "* Apply the function to book of your choice"
   ]
  },
  {
   "cell_type": "code",
   "execution_count": 23,
   "outputs": [
    {
     "name": "stdout",
     "output_type": "stream",
     "text": [
      "6828\n",
      "Recommendations for 33    Der Fluch der Kaiserin. Ein Richter- Di- Roman.\n",
      "Name: Book-Title, dtype: object:\n",
      "78486\n",
      "1: 53433    Our Nell : A Scrapbook Biography of Nellie L. ...\n",
      "Name: Book-Title, dtype: object, with distance of 0.0:\n",
      "60202\n",
      "2: 53412    Noah's Flood : The New Scientific Discoveries ...\n",
      "Name: Book-Title, dtype: object, with distance of 0.0:\n",
      "48813\n",
      "3: 53428    Redneck Heaven: Portrait of a Vanishing Culture\n",
      "Name: Book-Title, dtype: object, with distance of 0.0:\n",
      "67145\n",
      "4: 53446    From the Cop Shop: Weird and Wonderful Tales f...\n",
      "Name: Book-Title, dtype: object, with distance of 0.0:\n",
      "53375\n",
      "5: 53435    Solomon Gursky was here\n",
      "Name: Book-Title, dtype: object, with distance of 0.0:\n"
     ]
    }
   ],
   "source": [
    "recommender('Der Fluch der Kaiserin. Ein Richter- Di- Roman.')"
   ],
   "metadata": {
    "collapsed": false
   }
  }
 ],
 "metadata": {
  "kernelspec": {
   "display_name": "Python 3 (ipykernel)",
   "language": "python",
   "name": "python3"
  },
  "language_info": {
   "codemirror_mode": {
    "name": "ipython",
    "version": 3
   },
   "file_extension": ".py",
   "mimetype": "text/x-python",
   "name": "python",
   "nbconvert_exporter": "python",
   "pygments_lexer": "ipython3",
   "version": "3.7.13"
  },
  "toc": {
   "base_numbering": 1,
   "nav_menu": {},
   "number_sections": true,
   "sideBar": true,
   "skip_h1_title": false,
   "title_cell": "Table of Contents",
   "title_sidebar": "Contents",
   "toc_cell": false,
   "toc_position": {},
   "toc_section_display": true,
   "toc_window_display": false
  },
  "varInspector": {
   "cols": {
    "lenName": 16,
    "lenType": 16,
    "lenVar": 40
   },
   "kernels_config": {
    "python": {
     "delete_cmd_postfix": "",
     "delete_cmd_prefix": "del ",
     "library": "var_list.py",
     "varRefreshCmd": "print(var_dic_list())"
    },
    "r": {
     "delete_cmd_postfix": ") ",
     "delete_cmd_prefix": "rm(",
     "library": "var_list.r",
     "varRefreshCmd": "cat(var_dic_list()) "
    }
   },
   "types_to_exclude": [
    "module",
    "function",
    "builtin_function_or_method",
    "instance",
    "_Feature"
   ],
   "window_display": false
  }
 },
 "nbformat": 4,
 "nbformat_minor": 4
}
