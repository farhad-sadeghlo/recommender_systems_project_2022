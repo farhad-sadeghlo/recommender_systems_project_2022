{
 "cells": [
  {
   "cell_type": "markdown",
   "metadata": {},
   "source": [
    "## Collaborative Filtering\n",
    "#### Model Based Approach"
   ]
  },
  {
   "cell_type": "code",
   "execution_count": 1,
   "metadata": {
    "ExecuteTime": {
     "end_time": "2020-04-30T11:57:37.226021Z",
     "start_time": "2020-04-30T11:57:36.904092Z"
    }
   },
   "outputs": [],
   "source": [
    "import pandas as pd\n",
    "\n",
    "from surprise import SVD\n",
    "from surprise import Dataset\n",
    "from surprise import Reader\n",
    "\n",
    "from surprise import accuracy\n",
    "\n",
    "from surprise.model_selection import train_test_split\n",
    "\n",
    "from surprise.model_selection import GridSearchCV\n",
    "\n",
    "from surprise.model_selection import cross_validate"
   ]
  },
  {
   "cell_type": "markdown",
   "metadata": {},
   "source": [
    "We will be working with the [same data](https://drive.google.com/file/d/1WvTmAfO09TCX7xp7uu06__ziic7JnrL5/view?usp=sharing) we used in the previous exercise."
   ]
  },
  {
   "cell_type": "code",
   "execution_count": 2,
   "metadata": {},
   "outputs": [],
   "source": [
    "book_ratings = pd.read_csv('BX-CSV-Dump\\\\BX-Book-Ratings.csv',sep=\";\", encoding=\"latin\")"
   ]
  },
  {
   "cell_type": "code",
   "execution_count": 3,
   "outputs": [
    {
     "data": {
      "text/plain": "         User-ID         ISBN  Book-Rating\n0         276725   034545104X            0\n1         276726   0155061224            5\n2         276727   0446520802            0\n3         276729   052165615X            3\n4         276729   0521795028            6\n...          ...          ...          ...\n1149775   276704   1563526298            9\n1149776   276706   0679447156            0\n1149777   276709   0515107662           10\n1149778   276721   0590442449           10\n1149779   276723  05162443314            8\n\n[1149780 rows x 3 columns]",
      "text/html": "<div>\n<style scoped>\n    .dataframe tbody tr th:only-of-type {\n        vertical-align: middle;\n    }\n\n    .dataframe tbody tr th {\n        vertical-align: top;\n    }\n\n    .dataframe thead th {\n        text-align: right;\n    }\n</style>\n<table border=\"1\" class=\"dataframe\">\n  <thead>\n    <tr style=\"text-align: right;\">\n      <th></th>\n      <th>User-ID</th>\n      <th>ISBN</th>\n      <th>Book-Rating</th>\n    </tr>\n  </thead>\n  <tbody>\n    <tr>\n      <th>0</th>\n      <td>276725</td>\n      <td>034545104X</td>\n      <td>0</td>\n    </tr>\n    <tr>\n      <th>1</th>\n      <td>276726</td>\n      <td>0155061224</td>\n      <td>5</td>\n    </tr>\n    <tr>\n      <th>2</th>\n      <td>276727</td>\n      <td>0446520802</td>\n      <td>0</td>\n    </tr>\n    <tr>\n      <th>3</th>\n      <td>276729</td>\n      <td>052165615X</td>\n      <td>3</td>\n    </tr>\n    <tr>\n      <th>4</th>\n      <td>276729</td>\n      <td>0521795028</td>\n      <td>6</td>\n    </tr>\n    <tr>\n      <th>...</th>\n      <td>...</td>\n      <td>...</td>\n      <td>...</td>\n    </tr>\n    <tr>\n      <th>1149775</th>\n      <td>276704</td>\n      <td>1563526298</td>\n      <td>9</td>\n    </tr>\n    <tr>\n      <th>1149776</th>\n      <td>276706</td>\n      <td>0679447156</td>\n      <td>0</td>\n    </tr>\n    <tr>\n      <th>1149777</th>\n      <td>276709</td>\n      <td>0515107662</td>\n      <td>10</td>\n    </tr>\n    <tr>\n      <th>1149778</th>\n      <td>276721</td>\n      <td>0590442449</td>\n      <td>10</td>\n    </tr>\n    <tr>\n      <th>1149779</th>\n      <td>276723</td>\n      <td>05162443314</td>\n      <td>8</td>\n    </tr>\n  </tbody>\n</table>\n<p>1149780 rows × 3 columns</p>\n</div>"
     },
     "execution_count": 3,
     "metadata": {},
     "output_type": "execute_result"
    }
   ],
   "source": [
    "book_ratings"
   ],
   "metadata": {
    "collapsed": false
   }
  },
  {
   "cell_type": "code",
   "execution_count": 4,
   "outputs": [
    {
     "data": {
      "text/plain": "              User-ID                                                 \\\n                count           mean           std     min       25%   \nBook-Rating                                                            \n0            716109.0  143370.549256  80345.143780     2.0  73394.00   \n1              1770.0  127012.059322  86750.741252  1314.0  48423.75   \n2              2759.0  138600.495469  84060.292551   387.0  62464.00   \n3              5996.0  138070.616077  83818.299314    17.0  63180.25   \n4              8904.0  138104.758760  83264.004877    86.0  65514.00   \n5             50974.0  137953.412544  79099.693575     8.0  70183.00   \n6             36924.0  135065.780820  81575.208656     8.0  64015.00   \n7             76457.0  134472.395163  81432.702382     8.0  63694.00   \n8            103736.0  135406.822010  80778.299921    32.0  67542.00   \n9             67541.0  135306.242638  79049.826965    16.0  70594.00   \n10            78610.0  134765.543213  80929.515759    12.0  63714.00   \n\n                                            \n                  50%        75%       max  \nBook-Rating                                 \n0            145641.0  212898.00  278854.0  \n1            116395.5  208668.00  278759.0  \n2            138018.0  216626.00  278764.0  \n3            137649.0  214553.75  278820.0  \n4            137190.0  213316.00  278723.0  \n5            138777.0  202200.25  278851.0  \n6            135149.0  206023.00  278854.0  \n7            133571.0  205485.00  278854.0  \n8            133123.0  206074.00  278854.0  \n9            129465.0  203611.00  278849.0  \n10           130081.0  206438.00  278851.0  ",
      "text/html": "<div>\n<style scoped>\n    .dataframe tbody tr th:only-of-type {\n        vertical-align: middle;\n    }\n\n    .dataframe tbody tr th {\n        vertical-align: top;\n    }\n\n    .dataframe thead tr th {\n        text-align: left;\n    }\n\n    .dataframe thead tr:last-of-type th {\n        text-align: right;\n    }\n</style>\n<table border=\"1\" class=\"dataframe\">\n  <thead>\n    <tr>\n      <th></th>\n      <th colspan=\"8\" halign=\"left\">User-ID</th>\n    </tr>\n    <tr>\n      <th></th>\n      <th>count</th>\n      <th>mean</th>\n      <th>std</th>\n      <th>min</th>\n      <th>25%</th>\n      <th>50%</th>\n      <th>75%</th>\n      <th>max</th>\n    </tr>\n    <tr>\n      <th>Book-Rating</th>\n      <th></th>\n      <th></th>\n      <th></th>\n      <th></th>\n      <th></th>\n      <th></th>\n      <th></th>\n      <th></th>\n    </tr>\n  </thead>\n  <tbody>\n    <tr>\n      <th>0</th>\n      <td>716109.0</td>\n      <td>143370.549256</td>\n      <td>80345.143780</td>\n      <td>2.0</td>\n      <td>73394.00</td>\n      <td>145641.0</td>\n      <td>212898.00</td>\n      <td>278854.0</td>\n    </tr>\n    <tr>\n      <th>1</th>\n      <td>1770.0</td>\n      <td>127012.059322</td>\n      <td>86750.741252</td>\n      <td>1314.0</td>\n      <td>48423.75</td>\n      <td>116395.5</td>\n      <td>208668.00</td>\n      <td>278759.0</td>\n    </tr>\n    <tr>\n      <th>2</th>\n      <td>2759.0</td>\n      <td>138600.495469</td>\n      <td>84060.292551</td>\n      <td>387.0</td>\n      <td>62464.00</td>\n      <td>138018.0</td>\n      <td>216626.00</td>\n      <td>278764.0</td>\n    </tr>\n    <tr>\n      <th>3</th>\n      <td>5996.0</td>\n      <td>138070.616077</td>\n      <td>83818.299314</td>\n      <td>17.0</td>\n      <td>63180.25</td>\n      <td>137649.0</td>\n      <td>214553.75</td>\n      <td>278820.0</td>\n    </tr>\n    <tr>\n      <th>4</th>\n      <td>8904.0</td>\n      <td>138104.758760</td>\n      <td>83264.004877</td>\n      <td>86.0</td>\n      <td>65514.00</td>\n      <td>137190.0</td>\n      <td>213316.00</td>\n      <td>278723.0</td>\n    </tr>\n    <tr>\n      <th>5</th>\n      <td>50974.0</td>\n      <td>137953.412544</td>\n      <td>79099.693575</td>\n      <td>8.0</td>\n      <td>70183.00</td>\n      <td>138777.0</td>\n      <td>202200.25</td>\n      <td>278851.0</td>\n    </tr>\n    <tr>\n      <th>6</th>\n      <td>36924.0</td>\n      <td>135065.780820</td>\n      <td>81575.208656</td>\n      <td>8.0</td>\n      <td>64015.00</td>\n      <td>135149.0</td>\n      <td>206023.00</td>\n      <td>278854.0</td>\n    </tr>\n    <tr>\n      <th>7</th>\n      <td>76457.0</td>\n      <td>134472.395163</td>\n      <td>81432.702382</td>\n      <td>8.0</td>\n      <td>63694.00</td>\n      <td>133571.0</td>\n      <td>205485.00</td>\n      <td>278854.0</td>\n    </tr>\n    <tr>\n      <th>8</th>\n      <td>103736.0</td>\n      <td>135406.822010</td>\n      <td>80778.299921</td>\n      <td>32.0</td>\n      <td>67542.00</td>\n      <td>133123.0</td>\n      <td>206074.00</td>\n      <td>278854.0</td>\n    </tr>\n    <tr>\n      <th>9</th>\n      <td>67541.0</td>\n      <td>135306.242638</td>\n      <td>79049.826965</td>\n      <td>16.0</td>\n      <td>70594.00</td>\n      <td>129465.0</td>\n      <td>203611.00</td>\n      <td>278849.0</td>\n    </tr>\n    <tr>\n      <th>10</th>\n      <td>78610.0</td>\n      <td>134765.543213</td>\n      <td>80929.515759</td>\n      <td>12.0</td>\n      <td>63714.00</td>\n      <td>130081.0</td>\n      <td>206438.00</td>\n      <td>278851.0</td>\n    </tr>\n  </tbody>\n</table>\n</div>"
     },
     "execution_count": 4,
     "metadata": {},
     "output_type": "execute_result"
    }
   ],
   "source": [
    "book_ratings.groupby('Book-Rating').describe()"
   ],
   "metadata": {
    "collapsed": false
   }
  },
  {
   "cell_type": "code",
   "execution_count": 5,
   "outputs": [
    {
     "data": {
      "text/plain": "count    1.149780e+06\nmean     2.866950e+00\nstd      3.854184e+00\nmin      0.000000e+00\n25%      0.000000e+00\n50%      0.000000e+00\n75%      7.000000e+00\nmax      1.000000e+01\nName: Book-Rating, dtype: float64"
     },
     "execution_count": 5,
     "metadata": {},
     "output_type": "execute_result"
    }
   ],
   "source": [
    "book_ratings['Book-Rating'].describe()"
   ],
   "metadata": {
    "collapsed": false
   }
  },
  {
   "cell_type": "markdown",
   "metadata": {},
   "source": [
    "* create surprise dataset from book_ratings"
   ]
  },
  {
   "cell_type": "code",
   "execution_count": 6,
   "metadata": {},
   "outputs": [],
   "source": [
    "reader = Reader(rating_scale=(0, 10))\n",
    "\n",
    "# Loads Pandas dataframe\n",
    "data = Dataset.load_from_df(book_ratings, reader)"
   ]
  },
  {
   "cell_type": "markdown",
   "metadata": {},
   "source": [
    "* split data to train and test set, use test size 15%"
   ]
  },
  {
   "cell_type": "code",
   "execution_count": 7,
   "metadata": {},
   "outputs": [],
   "source": [
    "train_set, test_set = train_test_split(data, test_size=0.3) # <<--the best"
   ]
  },
  {
   "cell_type": "markdown",
   "source": [
    "* Use SVD (with default settings) to create recommendations for each user\n",
    "    - print default model's rmse that was computed on the test set (using object accuracy we imported in the beginning)"
   ],
   "metadata": {
    "collapsed": false
   }
  },
  {
   "cell_type": "code",
   "execution_count": 8,
   "outputs": [],
   "source": [
    "model = SVD()"
   ],
   "metadata": {
    "collapsed": false
   }
  },
  {
   "cell_type": "code",
   "execution_count": 9,
   "outputs": [
    {
     "data": {
      "text/plain": "<surprise.prediction_algorithms.matrix_factorization.SVD at 0x1d6350f34c0>"
     },
     "execution_count": 9,
     "metadata": {},
     "output_type": "execute_result"
    }
   ],
   "source": [
    "model.fit(train_set)"
   ],
   "metadata": {
    "collapsed": false
   }
  },
  {
   "cell_type": "code",
   "execution_count": 10,
   "outputs": [],
   "source": [
    "predictions = model.test(test_set)"
   ],
   "metadata": {
    "collapsed": false
   }
  },
  {
   "cell_type": "code",
   "execution_count": 11,
   "outputs": [
    {
     "name": "stdout",
     "output_type": "stream",
     "text": [
      "RMSE: 3.4983\n"
     ]
    },
    {
     "data": {
      "text/plain": "3.49828431056315"
     },
     "execution_count": 11,
     "metadata": {},
     "output_type": "execute_result"
    }
   ],
   "source": [
    "accuracy.rmse(predictions)"
   ],
   "metadata": {
    "collapsed": false
   }
  },
  {
   "cell_type": "markdown",
   "source": [
    "<font color= 'red'> Description: </font>\n",
    "<font color= 'Orange'> Usually RMSE is expected to be between 0 and 1, while in this case it is not. If we look at the upper section's describe() results, we would see the count of the USER-IDs which have got ratings 0-10, total count, mean value, and standard deviation; we can notice such result is not that much bad </font>"
   ],
   "metadata": {
    "collapsed": false
   }
  },
  {
   "cell_type": "markdown",
   "source": [
    "<font color='orange'> Train test set splitting for grid search </font>"
   ],
   "metadata": {
    "collapsed": false
   }
  },
  {
   "cell_type": "code",
   "execution_count": 12,
   "outputs": [],
   "source": [
    "raw_ratings = data.raw_ratings\n",
    "threshold = int(0.7 * len(raw_ratings))\n",
    "A_raw_ratings = raw_ratings[:threshold]\n",
    "B_raw_ratings = raw_ratings[threshold:]\n",
    "data.raw_ratings = A_raw_ratings"
   ],
   "metadata": {
    "collapsed": false
   }
  },
  {
   "cell_type": "markdown",
   "source": [
    "* create parameters grid, use this params:\n",
    "* 'n_factors': [110, 120, 140, 160]\n",
    "* 'reg_all': [0.08, 0.1, 0.15]"
   ],
   "metadata": {
    "collapsed": false
   }
  },
  {
   "cell_type": "code",
   "execution_count": 13,
   "outputs": [],
   "source": [
    "param_grid = {'n_factors': [110, 120, 140, 160], 'reg_all': [0.08, 0.1, 0.15]}"
   ],
   "metadata": {
    "collapsed": false
   }
  },
  {
   "cell_type": "markdown",
   "source": [
    "* instantiate GridSearch with SVD as model, our pre-defined parameter grid and rmse and mae as evaluation metrics"
   ],
   "metadata": {
    "collapsed": false
   }
  },
  {
   "cell_type": "code",
   "execution_count": 14,
   "outputs": [],
   "source": [
    "grid_search = GridSearchCV(SVD, param_grid, measures=['rmse'], cv=3)"
   ],
   "metadata": {
    "collapsed": false
   }
  },
  {
   "cell_type": "markdown",
   "source": [
    "* fit GridSearch"
   ],
   "metadata": {
    "collapsed": false
   }
  },
  {
   "cell_type": "code",
   "execution_count": 15,
   "outputs": [],
   "source": [
    "grid_search.fit(data)"
   ],
   "metadata": {
    "collapsed": false
   }
  },
  {
   "cell_type": "markdown",
   "source": [
    "* print best RMSE score from training"
   ],
   "metadata": {
    "collapsed": false
   }
  },
  {
   "cell_type": "code",
   "execution_count": 16,
   "outputs": [],
   "source": [
    "algo = grid_search.best_estimator['rmse']"
   ],
   "metadata": {
    "collapsed": false
   }
  },
  {
   "cell_type": "code",
   "execution_count": 17,
   "outputs": [],
   "source": [
    "trainset = data.build_full_trainset()"
   ],
   "metadata": {
    "collapsed": false
   }
  },
  {
   "cell_type": "code",
   "execution_count": 18,
   "outputs": [
    {
     "data": {
      "text/plain": "<surprise.prediction_algorithms.matrix_factorization.SVD at 0x1d632806860>"
     },
     "execution_count": 18,
     "metadata": {},
     "output_type": "execute_result"
    }
   ],
   "source": [
    "algo.fit(trainset)"
   ],
   "metadata": {
    "collapsed": false
   }
  },
  {
   "cell_type": "markdown",
   "source": [
    "* predict test set with optimal model based on `RMSE`"
   ],
   "metadata": {
    "collapsed": false
   }
  },
  {
   "cell_type": "code",
   "execution_count": 19,
   "outputs": [],
   "source": [
    "predictions = algo.test(trainset.build_testset())"
   ],
   "metadata": {
    "collapsed": false
   }
  },
  {
   "cell_type": "code",
   "execution_count": 20,
   "outputs": [
    {
     "name": "stdout",
     "output_type": "stream",
     "text": [
      "RMSE: 1.4213\n"
     ]
    },
    {
     "data": {
      "text/plain": "1.4213083046559942"
     },
     "execution_count": 20,
     "metadata": {},
     "output_type": "execute_result"
    }
   ],
   "source": [
    "accuracy.rmse(predictions)"
   ],
   "metadata": {
    "collapsed": false
   }
  },
  {
   "cell_type": "markdown",
   "source": [
    "* print optimal model's RMSE that was computed on test set\n",
    "    - is it better than the default parameters?"
   ],
   "metadata": {
    "collapsed": false
   }
  },
  {
   "cell_type": "code",
   "execution_count": 21,
   "outputs": [],
   "source": [
    "testset = data.construct_testset(B_raw_ratings)"
   ],
   "metadata": {
    "collapsed": false
   }
  },
  {
   "cell_type": "code",
   "execution_count": 22,
   "outputs": [],
   "source": [
    "test_predictions = algo.test(testset)"
   ],
   "metadata": {
    "collapsed": false
   }
  },
  {
   "cell_type": "code",
   "execution_count": 23,
   "metadata": {
    "ExecuteTime": {
     "end_time": "2020-04-30T12:02:09.507946Z",
     "start_time": "2020-04-30T12:02:09.485329Z"
    }
   },
   "outputs": [
    {
     "name": "stdout",
     "output_type": "stream",
     "text": [
      "RMSE: 3.7771\n"
     ]
    },
    {
     "data": {
      "text/plain": "3.777050320016362"
     },
     "execution_count": 23,
     "metadata": {},
     "output_type": "execute_result"
    }
   ],
   "source": [
    "accuracy.rmse(test_predictions)"
   ]
  },
  {
   "cell_type": "code",
   "execution_count": 23,
   "outputs": [],
   "source": [],
   "metadata": {
    "collapsed": false
   }
  }
 ],
 "metadata": {
  "kernelspec": {
   "display_name": "Python 3 (ipykernel)",
   "language": "python",
   "name": "python3"
  },
  "language_info": {
   "codemirror_mode": {
    "name": "ipython",
    "version": 3
   },
   "file_extension": ".py",
   "mimetype": "text/x-python",
   "name": "python",
   "nbconvert_exporter": "python",
   "pygments_lexer": "ipython3",
   "version": "3.7.13"
  },
  "toc": {
   "base_numbering": 1,
   "nav_menu": {},
   "number_sections": true,
   "sideBar": true,
   "skip_h1_title": false,
   "title_cell": "Table of Contents",
   "title_sidebar": "Contents",
   "toc_cell": false,
   "toc_position": {},
   "toc_section_display": true,
   "toc_window_display": false
  },
  "varInspector": {
   "cols": {
    "lenName": 16,
    "lenType": 16,
    "lenVar": 40
   },
   "kernels_config": {
    "python": {
     "delete_cmd_postfix": "",
     "delete_cmd_prefix": "del ",
     "library": "var_list.py",
     "varRefreshCmd": "print(var_dic_list())"
    },
    "r": {
     "delete_cmd_postfix": ") ",
     "delete_cmd_prefix": "rm(",
     "library": "var_list.r",
     "varRefreshCmd": "cat(var_dic_list()) "
    }
   },
   "types_to_exclude": [
    "module",
    "function",
    "builtin_function_or_method",
    "instance",
    "_Feature"
   ],
   "window_display": false
  }
 },
 "nbformat": 4,
 "nbformat_minor": 4
}
