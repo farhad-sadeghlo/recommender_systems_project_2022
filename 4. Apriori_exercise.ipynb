{
 "cells": [
  {
   "cell_type": "markdown",
   "source": [
    "Package location on my system:\n",
    "\n",
    "Works with isolated virtual environment for SharpestMinds by Python 3.10"
   ],
   "metadata": {
    "collapsed": false
   }
  },
  {
   "cell_type": "code",
   "execution_count": 1,
   "metadata": {
    "ExecuteTime": {
     "end_time": "2020-04-30T11:40:10.388626Z",
     "start_time": "2020-04-30T11:40:09.944952Z"
    }
   },
   "outputs": [],
   "source": [
    "# import pandas\n",
    "import pandas as pd\n",
    "\n",
    "# from apyori import apriori\n",
    "from apyori import apriori"
   ]
  },
  {
   "cell_type": "code",
   "execution_count": 2,
   "metadata": {
    "ExecuteTime": {
     "end_time": "2020-04-30T11:40:11.501307Z",
     "start_time": "2020-04-30T11:40:10.963718Z"
    }
   },
   "outputs": [],
   "source": [
    "# load data \n",
    "movie_data = pd.read_csv('https://raw.githubusercontent.com/pirandello/apriori/master/movie_dataset.csv', \n",
    "                         header = None)"
   ]
  },
  {
   "cell_type": "markdown",
   "metadata": {},
   "source": [
    "* explore the dataset"
   ]
  },
  {
   "cell_type": "code",
   "execution_count": 3,
   "metadata": {},
   "outputs": [
    {
     "data": {
      "text/plain": "                   0           1                   2   \\\n0        The Revenant    13 Hours              Allied   \n1              Beirut     Martian             Get Out   \n2            Deadpool         NaN                 NaN   \n3               X-Men      Allied                 NaN   \n4       Ninja Turtles       Moana  Ghost in the Shell   \n...               ...         ...                 ...   \n7496         Big Sick      Looper                Hulk   \n7497           Beirut      Intern             Get Out   \n7498  Captain America         NaN                 NaN   \n7499    Green Lantern   John Wick                 NaN   \n7500          Get Out  Inside Out       I Feel Pretty   \n\n                             3          4          5       6   \\\n0                      Zootopia     Jigsaw   Achorman  Grinch   \n1                           NaN        NaN        NaN     NaN   \n2                           NaN        NaN        NaN     NaN   \n3                           NaN        NaN        NaN     NaN   \n4     Ralph Breaks the Internet  John Wick        NaN     NaN   \n...                         ...        ...        ...     ...   \n7496                        NaN        NaN        NaN     NaN   \n7497         Hotel Transylvania  Mamma Mia  John Wick     NaN   \n7498                        NaN        NaN        NaN     NaN   \n7499                        NaN        NaN        NaN     NaN   \n7500                    Mad Max        NaN        NaN     NaN   \n\n                    7             8          9        10         11  \\\n0     Fast and Furious  Ghostbusters  Wolverine  Mad Max  John Wick   \n1                  NaN           NaN        NaN      NaN        NaN   \n2                  NaN           NaN        NaN      NaN        NaN   \n3                  NaN           NaN        NaN      NaN        NaN   \n4                  NaN           NaN        NaN      NaN        NaN   \n...                ...           ...        ...      ...        ...   \n7496               NaN           NaN        NaN      NaN        NaN   \n7497               NaN           NaN        NaN      NaN        NaN   \n7498               NaN           NaN        NaN      NaN        NaN   \n7499               NaN           NaN        NaN      NaN        NaN   \n7500               NaN           NaN        NaN      NaN        NaN   \n\n              12                 13             14  \\\n0     La La Land  The Good Dunosaur  Ninja Turtles   \n1            NaN                NaN            NaN   \n2            NaN                NaN            NaN   \n3            NaN                NaN            NaN   \n4            NaN                NaN            NaN   \n...          ...                ...            ...   \n7496         NaN                NaN            NaN   \n7497         NaN                NaN            NaN   \n7498         NaN                NaN            NaN   \n7499         NaN                NaN            NaN   \n7500         NaN                NaN            NaN   \n\n                              15      16          17        18           19  \n0     The Good Dunosaur Bad Moms  2 Guns  Inside Out  Valerian  Spiderman 3  \n1                            NaN     NaN         NaN       NaN          NaN  \n2                            NaN     NaN         NaN       NaN          NaN  \n3                            NaN     NaN         NaN       NaN          NaN  \n4                            NaN     NaN         NaN       NaN          NaN  \n...                          ...     ...         ...       ...          ...  \n7496                         NaN     NaN         NaN       NaN          NaN  \n7497                         NaN     NaN         NaN       NaN          NaN  \n7498                         NaN     NaN         NaN       NaN          NaN  \n7499                         NaN     NaN         NaN       NaN          NaN  \n7500                         NaN     NaN         NaN       NaN          NaN  \n\n[7501 rows x 20 columns]",
      "text/html": "<div>\n<style scoped>\n    .dataframe tbody tr th:only-of-type {\n        vertical-align: middle;\n    }\n\n    .dataframe tbody tr th {\n        vertical-align: top;\n    }\n\n    .dataframe thead th {\n        text-align: right;\n    }\n</style>\n<table border=\"1\" class=\"dataframe\">\n  <thead>\n    <tr style=\"text-align: right;\">\n      <th></th>\n      <th>0</th>\n      <th>1</th>\n      <th>2</th>\n      <th>3</th>\n      <th>4</th>\n      <th>5</th>\n      <th>6</th>\n      <th>7</th>\n      <th>8</th>\n      <th>9</th>\n      <th>10</th>\n      <th>11</th>\n      <th>12</th>\n      <th>13</th>\n      <th>14</th>\n      <th>15</th>\n      <th>16</th>\n      <th>17</th>\n      <th>18</th>\n      <th>19</th>\n    </tr>\n  </thead>\n  <tbody>\n    <tr>\n      <th>0</th>\n      <td>The Revenant</td>\n      <td>13 Hours</td>\n      <td>Allied</td>\n      <td>Zootopia</td>\n      <td>Jigsaw</td>\n      <td>Achorman</td>\n      <td>Grinch</td>\n      <td>Fast and Furious</td>\n      <td>Ghostbusters</td>\n      <td>Wolverine</td>\n      <td>Mad Max</td>\n      <td>John Wick</td>\n      <td>La La Land</td>\n      <td>The Good Dunosaur</td>\n      <td>Ninja Turtles</td>\n      <td>The Good Dunosaur Bad Moms</td>\n      <td>2 Guns</td>\n      <td>Inside Out</td>\n      <td>Valerian</td>\n      <td>Spiderman 3</td>\n    </tr>\n    <tr>\n      <th>1</th>\n      <td>Beirut</td>\n      <td>Martian</td>\n      <td>Get Out</td>\n      <td>NaN</td>\n      <td>NaN</td>\n      <td>NaN</td>\n      <td>NaN</td>\n      <td>NaN</td>\n      <td>NaN</td>\n      <td>NaN</td>\n      <td>NaN</td>\n      <td>NaN</td>\n      <td>NaN</td>\n      <td>NaN</td>\n      <td>NaN</td>\n      <td>NaN</td>\n      <td>NaN</td>\n      <td>NaN</td>\n      <td>NaN</td>\n      <td>NaN</td>\n    </tr>\n    <tr>\n      <th>2</th>\n      <td>Deadpool</td>\n      <td>NaN</td>\n      <td>NaN</td>\n      <td>NaN</td>\n      <td>NaN</td>\n      <td>NaN</td>\n      <td>NaN</td>\n      <td>NaN</td>\n      <td>NaN</td>\n      <td>NaN</td>\n      <td>NaN</td>\n      <td>NaN</td>\n      <td>NaN</td>\n      <td>NaN</td>\n      <td>NaN</td>\n      <td>NaN</td>\n      <td>NaN</td>\n      <td>NaN</td>\n      <td>NaN</td>\n      <td>NaN</td>\n    </tr>\n    <tr>\n      <th>3</th>\n      <td>X-Men</td>\n      <td>Allied</td>\n      <td>NaN</td>\n      <td>NaN</td>\n      <td>NaN</td>\n      <td>NaN</td>\n      <td>NaN</td>\n      <td>NaN</td>\n      <td>NaN</td>\n      <td>NaN</td>\n      <td>NaN</td>\n      <td>NaN</td>\n      <td>NaN</td>\n      <td>NaN</td>\n      <td>NaN</td>\n      <td>NaN</td>\n      <td>NaN</td>\n      <td>NaN</td>\n      <td>NaN</td>\n      <td>NaN</td>\n    </tr>\n    <tr>\n      <th>4</th>\n      <td>Ninja Turtles</td>\n      <td>Moana</td>\n      <td>Ghost in the Shell</td>\n      <td>Ralph Breaks the Internet</td>\n      <td>John Wick</td>\n      <td>NaN</td>\n      <td>NaN</td>\n      <td>NaN</td>\n      <td>NaN</td>\n      <td>NaN</td>\n      <td>NaN</td>\n      <td>NaN</td>\n      <td>NaN</td>\n      <td>NaN</td>\n      <td>NaN</td>\n      <td>NaN</td>\n      <td>NaN</td>\n      <td>NaN</td>\n      <td>NaN</td>\n      <td>NaN</td>\n    </tr>\n    <tr>\n      <th>...</th>\n      <td>...</td>\n      <td>...</td>\n      <td>...</td>\n      <td>...</td>\n      <td>...</td>\n      <td>...</td>\n      <td>...</td>\n      <td>...</td>\n      <td>...</td>\n      <td>...</td>\n      <td>...</td>\n      <td>...</td>\n      <td>...</td>\n      <td>...</td>\n      <td>...</td>\n      <td>...</td>\n      <td>...</td>\n      <td>...</td>\n      <td>...</td>\n      <td>...</td>\n    </tr>\n    <tr>\n      <th>7496</th>\n      <td>Big Sick</td>\n      <td>Looper</td>\n      <td>Hulk</td>\n      <td>NaN</td>\n      <td>NaN</td>\n      <td>NaN</td>\n      <td>NaN</td>\n      <td>NaN</td>\n      <td>NaN</td>\n      <td>NaN</td>\n      <td>NaN</td>\n      <td>NaN</td>\n      <td>NaN</td>\n      <td>NaN</td>\n      <td>NaN</td>\n      <td>NaN</td>\n      <td>NaN</td>\n      <td>NaN</td>\n      <td>NaN</td>\n      <td>NaN</td>\n    </tr>\n    <tr>\n      <th>7497</th>\n      <td>Beirut</td>\n      <td>Intern</td>\n      <td>Get Out</td>\n      <td>Hotel Transylvania</td>\n      <td>Mamma Mia</td>\n      <td>John Wick</td>\n      <td>NaN</td>\n      <td>NaN</td>\n      <td>NaN</td>\n      <td>NaN</td>\n      <td>NaN</td>\n      <td>NaN</td>\n      <td>NaN</td>\n      <td>NaN</td>\n      <td>NaN</td>\n      <td>NaN</td>\n      <td>NaN</td>\n      <td>NaN</td>\n      <td>NaN</td>\n      <td>NaN</td>\n    </tr>\n    <tr>\n      <th>7498</th>\n      <td>Captain America</td>\n      <td>NaN</td>\n      <td>NaN</td>\n      <td>NaN</td>\n      <td>NaN</td>\n      <td>NaN</td>\n      <td>NaN</td>\n      <td>NaN</td>\n      <td>NaN</td>\n      <td>NaN</td>\n      <td>NaN</td>\n      <td>NaN</td>\n      <td>NaN</td>\n      <td>NaN</td>\n      <td>NaN</td>\n      <td>NaN</td>\n      <td>NaN</td>\n      <td>NaN</td>\n      <td>NaN</td>\n      <td>NaN</td>\n    </tr>\n    <tr>\n      <th>7499</th>\n      <td>Green Lantern</td>\n      <td>John Wick</td>\n      <td>NaN</td>\n      <td>NaN</td>\n      <td>NaN</td>\n      <td>NaN</td>\n      <td>NaN</td>\n      <td>NaN</td>\n      <td>NaN</td>\n      <td>NaN</td>\n      <td>NaN</td>\n      <td>NaN</td>\n      <td>NaN</td>\n      <td>NaN</td>\n      <td>NaN</td>\n      <td>NaN</td>\n      <td>NaN</td>\n      <td>NaN</td>\n      <td>NaN</td>\n      <td>NaN</td>\n    </tr>\n    <tr>\n      <th>7500</th>\n      <td>Get Out</td>\n      <td>Inside Out</td>\n      <td>I Feel Pretty</td>\n      <td>Mad Max</td>\n      <td>NaN</td>\n      <td>NaN</td>\n      <td>NaN</td>\n      <td>NaN</td>\n      <td>NaN</td>\n      <td>NaN</td>\n      <td>NaN</td>\n      <td>NaN</td>\n      <td>NaN</td>\n      <td>NaN</td>\n      <td>NaN</td>\n      <td>NaN</td>\n      <td>NaN</td>\n      <td>NaN</td>\n      <td>NaN</td>\n      <td>NaN</td>\n    </tr>\n  </tbody>\n</table>\n<p>7501 rows × 20 columns</p>\n</div>"
     },
     "execution_count": 3,
     "metadata": {},
     "output_type": "execute_result"
    }
   ],
   "source": [
    "movie_data"
   ]
  },
  {
   "cell_type": "code",
   "execution_count": null,
   "metadata": {
    "ExecuteTime": {
     "end_time": "2020-04-30T11:40:35.334675Z",
     "start_time": "2020-04-30T11:40:35.306867Z"
    }
   },
   "outputs": [],
   "source": []
  },
  {
   "cell_type": "markdown",
   "metadata": {},
   "source": [
    "* transform dataframe to list of lists (suitable format for apyori)"
   ]
  },
  {
   "cell_type": "code",
   "execution_count": null,
   "metadata": {},
   "outputs": [],
   "source": []
  },
  {
   "cell_type": "code",
   "execution_count": null,
   "metadata": {
    "ExecuteTime": {
     "end_time": "2020-04-30T11:40:55.909558Z",
     "start_time": "2020-04-30T11:40:54.674205Z"
    }
   },
   "outputs": [],
   "source": []
  },
  {
   "cell_type": "markdown",
   "metadata": {},
   "source": [
    "* instantiate apriori and set the input params based on following constraints:\n",
    "    * we want only movies that are purchased at least 40 times\n",
    "    * the minimum confidence for the rules is 20%\n",
    "    * the minumum lift is 3"
   ]
  },
  {
   "cell_type": "code",
   "execution_count": null,
   "metadata": {
    "ExecuteTime": {
     "end_time": "2020-04-30T11:41:35.441177Z",
     "start_time": "2020-04-30T11:41:33.734304Z"
    }
   },
   "outputs": [],
   "source": []
  },
  {
   "cell_type": "markdown",
   "metadata": {},
   "source": [
    "* how many association rules did we obtained ?"
   ]
  },
  {
   "cell_type": "code",
   "execution_count": null,
   "metadata": {},
   "outputs": [],
   "source": []
  },
  {
   "cell_type": "code",
   "execution_count": null,
   "metadata": {
    "ExecuteTime": {
     "end_time": "2020-04-30T11:41:49.751361Z",
     "start_time": "2020-04-30T11:41:49.744749Z"
    }
   },
   "outputs": [],
   "source": []
  },
  {
   "cell_type": "markdown",
   "metadata": {},
   "source": [
    "* print the first association rule"
   ]
  },
  {
   "cell_type": "code",
   "execution_count": null,
   "metadata": {},
   "outputs": [],
   "source": []
  },
  {
   "cell_type": "code",
   "execution_count": null,
   "metadata": {
    "ExecuteTime": {
     "end_time": "2020-04-07T13:07:29.924870Z",
     "start_time": "2020-04-07T13:07:29.917054Z"
    }
   },
   "outputs": [],
   "source": []
  },
  {
   "cell_type": "markdown",
   "metadata": {},
   "source": [
    "* convert association rules to DataFrame \n",
    "    * use these columns: title_1, title_2, support, confidence, lift"
   ]
  },
  {
   "cell_type": "code",
   "execution_count": null,
   "metadata": {},
   "outputs": [],
   "source": []
  },
  {
   "cell_type": "code",
   "execution_count": null,
   "metadata": {
    "ExecuteTime": {
     "end_time": "2020-04-30T11:42:41.014360Z",
     "start_time": "2020-04-30T11:42:40.984827Z"
    }
   },
   "outputs": [],
   "source": []
  }
 ],
 "metadata": {
  "kernelspec": {
   "display_name": "Python 3 (ipykernel)",
   "language": "python",
   "name": "python3"
  },
  "language_info": {
   "codemirror_mode": {
    "name": "ipython",
    "version": 3
   },
   "file_extension": ".py",
   "mimetype": "text/x-python",
   "name": "python",
   "nbconvert_exporter": "python",
   "pygments_lexer": "ipython3",
   "version": "3.7.13"
  },
  "toc": {
   "base_numbering": 1,
   "nav_menu": {},
   "number_sections": true,
   "sideBar": true,
   "skip_h1_title": false,
   "title_cell": "Table of Contents",
   "title_sidebar": "Contents",
   "toc_cell": false,
   "toc_position": {},
   "toc_section_display": true,
   "toc_window_display": false
  },
  "varInspector": {
   "cols": {
    "lenName": 16,
    "lenType": 16,
    "lenVar": 40
   },
   "kernels_config": {
    "python": {
     "delete_cmd_postfix": "",
     "delete_cmd_prefix": "del ",
     "library": "var_list.py",
     "varRefreshCmd": "print(var_dic_list())"
    },
    "r": {
     "delete_cmd_postfix": ") ",
     "delete_cmd_prefix": "rm(",
     "library": "var_list.r",
     "varRefreshCmd": "cat(var_dic_list()) "
    }
   },
   "types_to_exclude": [
    "module",
    "function",
    "builtin_function_or_method",
    "instance",
    "_Feature"
   ],
   "window_display": false
  }
 },
 "nbformat": 4,
 "nbformat_minor": 4
}
